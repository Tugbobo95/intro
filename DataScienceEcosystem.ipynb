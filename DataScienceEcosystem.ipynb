{
 "cells": [
  {
   "cell_type": "markdown",
   "id": "fe10ef5f",
   "metadata": {},
   "source": [
    "# Data Science Tools and Ecosystem"
   ]
  },
  {
   "cell_type": "markdown",
   "id": "462ba632",
   "metadata": {},
   "source": [
    "##### In this notebook, Data Science Tools and Ecosystem are summarized."
   ]
  },
  {
   "cell_type": "markdown",
   "id": "781b3d79",
   "metadata": {},
   "source": [
    "### Some of the popular languages that Data Scientists use are:\n",
    "1. Python\n",
    "2. R\n",
    "3. SQL"
   ]
  },
  {
   "cell_type": "markdown",
   "id": "c625227f",
   "metadata": {},
   "source": [
    "### Some of the commonly used libraries used by Data Scientists include:\n",
    "1. Pandas\n",
    "2. seaborn\n",
    "3. Numpy"
   ]
  },
  {
   "cell_type": "markdown",
   "id": "e5577d77",
   "metadata": {},
   "source": [
    "| Data Science Tools |\n",
    "|----------|\n",
    "|Tableau | \n",
    "|PowerBi |\n",
    "|TensorFlow |"
   ]
  },
  {
   "cell_type": "markdown",
   "id": "f63a4e53",
   "metadata": {},
   "source": [
    "# Objectives:\n",
    "- To create an introduction into the use of Python and Markdown\n",
    "- To execute arithmetic functions in Python\n",
    "- To list the different tools used in Python\n",
    "- To list the various libraries used in Python\n",
    "- To familiarise oneself with the use of Python\n"
   ]
  },
  {
   "cell_type": "markdown",
   "id": "aec48911",
   "metadata": {},
   "source": [
    "### Below are a few examples of evaluating arithmetic expressions in Python:\n",
    "\\(2 + 3 = 5\\),\n",
    "\\(12 - 10 = 2\\)\n"
   ]
  },
  {
   "cell_type": "code",
   "execution_count": 2,
   "id": "cd632bc3",
   "metadata": {},
   "outputs": [
    {
     "data": {
      "text/plain": [
       "17"
      ]
     },
     "execution_count": 2,
     "metadata": {},
     "output_type": "execute_result"
    }
   ],
   "source": [
    "# This a simple arithmetic expression to mutiply then add integers.\n",
    "(3*4)+5"
   ]
  },
  {
   "cell_type": "code",
   "execution_count": null,
   "id": "12ff1fd0",
   "metadata": {},
   "outputs": [],
   "source": [
    "# This will convert 200 minutes to hours by diving by 60.\n"
   ]
  },
  {
   "cell_type": "code",
   "execution_count": 3,
   "id": "fa393862",
   "metadata": {},
   "outputs": [
    {
     "name": "stdout",
     "output_type": "stream",
     "text": [
      "3.3333333333333335\n"
     ]
    }
   ],
   "source": [
    "minutes = 200\n",
    "hours = minutes / 60\n",
    "print(hours)\n"
   ]
  },
  {
   "cell_type": "markdown",
   "id": "8e9d7720",
   "metadata": {},
   "source": [
    "## Author\n",
    "##### Tugbobo AbdulAzeez"
   ]
  },
  {
   "cell_type": "code",
   "execution_count": null,
   "id": "b61ce91e",
   "metadata": {},
   "outputs": [],
   "source": []
  },
  {
   "cell_type": "code",
   "execution_count": null,
   "id": "b0713af5",
   "metadata": {},
   "outputs": [],
   "source": []
  },
  {
   "cell_type": "code",
   "execution_count": null,
   "id": "beeec4e0",
   "metadata": {},
   "outputs": [],
   "source": []
  },
  {
   "cell_type": "code",
   "execution_count": null,
   "id": "c2e8135c",
   "metadata": {},
   "outputs": [],
   "source": []
  }
 ],
 "metadata": {
  "kernelspec": {
   "display_name": "Python 3 (ipykernel)",
   "language": "python",
   "name": "python3"
  },
  "language_info": {
   "codemirror_mode": {
    "name": "ipython",
    "version": 3
   },
   "file_extension": ".py",
   "mimetype": "text/x-python",
   "name": "python",
   "nbconvert_exporter": "python",
   "pygments_lexer": "ipython3",
   "version": "3.11.4"
  }
 },
 "nbformat": 4,
 "nbformat_minor": 5
}
